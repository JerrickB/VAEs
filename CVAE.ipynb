{
 "cells": [
  {
   "cell_type": "code",
   "execution_count": 20,
   "metadata": {},
   "outputs": [
    {
     "name": "stderr",
     "output_type": "stream",
     "text": [
      "[autoreload of fastai.torch_core failed: Traceback (most recent call last):\n",
      "  File \"/home/paperspace/anaconda3/envs/fastai/lib/python3.6/site-packages/IPython/extensions/autoreload.py\", line 246, in check\n",
      "    superreload(m, reload, self.old_objects)\n",
      "  File \"/home/paperspace/anaconda3/envs/fastai/lib/python3.6/site-packages/IPython/extensions/autoreload.py\", line 369, in superreload\n",
      "    module = reload(module)\n",
      "  File \"/home/paperspace/anaconda3/envs/fastai/lib/python3.6/imp.py\", line 315, in reload\n",
      "    return importlib.reload(module)\n",
      "  File \"/home/paperspace/anaconda3/envs/fastai/lib/python3.6/importlib/__init__.py\", line 166, in reload\n",
      "    _bootstrap._exec(spec, module)\n",
      "  File \"<frozen importlib._bootstrap>\", line 618, in _exec\n",
      "  File \"<frozen importlib._bootstrap_external>\", line 678, in exec_module\n",
      "  File \"<frozen importlib._bootstrap>\", line 219, in _call_with_frames_removed\n",
      "  File \"/home/paperspace/fastai/fastai/torch_core.py\", line 87, in <module>\n",
      "    class Module(nn.Module, metaclass=PrePostInitMeta):\n",
      "NameError: name 'PrePostInitMeta' is not defined\n",
      "]\n",
      "[autoreload of fastai.layers failed: Traceback (most recent call last):\n",
      "  File \"/home/paperspace/anaconda3/envs/fastai/lib/python3.6/site-packages/IPython/extensions/autoreload.py\", line 246, in check\n",
      "    superreload(m, reload, self.old_objects)\n",
      "  File \"/home/paperspace/anaconda3/envs/fastai/lib/python3.6/site-packages/IPython/extensions/autoreload.py\", line 369, in superreload\n",
      "    module = reload(module)\n",
      "  File \"/home/paperspace/anaconda3/envs/fastai/lib/python3.6/imp.py\", line 315, in reload\n",
      "    return importlib.reload(module)\n",
      "  File \"/home/paperspace/anaconda3/envs/fastai/lib/python3.6/importlib/__init__.py\", line 166, in reload\n",
      "    _bootstrap._exec(spec, module)\n",
      "  File \"<frozen importlib._bootstrap>\", line 618, in _exec\n",
      "  File \"<frozen importlib._bootstrap_external>\", line 678, in exec_module\n",
      "  File \"<frozen importlib._bootstrap>\", line 219, in _call_with_frames_removed\n",
      "  File \"/home/paperspace/fastai/fastai/layers.py\", line 10, in <module>\n",
      "    class Lambda(Module):\n",
      "NameError: name 'Module' is not defined\n",
      "]\n",
      "[autoreload of fastai.callbacks.hooks failed: Traceback (most recent call last):\n",
      "  File \"/home/paperspace/anaconda3/envs/fastai/lib/python3.6/site-packages/IPython/extensions/autoreload.py\", line 246, in check\n",
      "    superreload(m, reload, self.old_objects)\n",
      "  File \"/home/paperspace/anaconda3/envs/fastai/lib/python3.6/site-packages/IPython/extensions/autoreload.py\", line 385, in superreload\n",
      "    update_generic(old_obj, new_obj)\n",
      "  File \"/home/paperspace/anaconda3/envs/fastai/lib/python3.6/site-packages/IPython/extensions/autoreload.py\", line 324, in update_generic\n",
      "    update(a, b)\n",
      "  File \"/home/paperspace/anaconda3/envs/fastai/lib/python3.6/site-packages/IPython/extensions/autoreload.py\", line 289, in update_class\n",
      "    if update_generic(old_obj, new_obj): continue\n",
      "  File \"/home/paperspace/anaconda3/envs/fastai/lib/python3.6/site-packages/IPython/extensions/autoreload.py\", line 324, in update_generic\n",
      "    update(a, b)\n",
      "  File \"/home/paperspace/anaconda3/envs/fastai/lib/python3.6/site-packages/IPython/extensions/autoreload.py\", line 267, in update_function\n",
      "    setattr(old, name, getattr(new, name))\n",
      "ValueError: on_train_end() requires a code object with 0 free vars, not 1\n",
      "]\n",
      "[autoreload of fastai.callbacks.mixup failed: Traceback (most recent call last):\n",
      "  File \"/home/paperspace/anaconda3/envs/fastai/lib/python3.6/site-packages/IPython/extensions/autoreload.py\", line 246, in check\n",
      "    superreload(m, reload, self.old_objects)\n",
      "  File \"/home/paperspace/anaconda3/envs/fastai/lib/python3.6/site-packages/IPython/extensions/autoreload.py\", line 369, in superreload\n",
      "    module = reload(module)\n",
      "  File \"/home/paperspace/anaconda3/envs/fastai/lib/python3.6/imp.py\", line 315, in reload\n",
      "    return importlib.reload(module)\n",
      "  File \"/home/paperspace/anaconda3/envs/fastai/lib/python3.6/importlib/__init__.py\", line 166, in reload\n",
      "    _bootstrap._exec(spec, module)\n",
      "  File \"<frozen importlib._bootstrap>\", line 618, in _exec\n",
      "  File \"<frozen importlib._bootstrap_external>\", line 678, in exec_module\n",
      "  File \"<frozen importlib._bootstrap>\", line 219, in _call_with_frames_removed\n",
      "  File \"/home/paperspace/fastai/fastai/callbacks/mixup.py\", line 40, in <module>\n",
      "    class MixUpLoss(Module):\n",
      "NameError: name 'Module' is not defined\n",
      "]\n",
      "[autoreload of fastai.vision.models.xresnet failed: Traceback (most recent call last):\n",
      "  File \"/home/paperspace/anaconda3/envs/fastai/lib/python3.6/site-packages/IPython/extensions/autoreload.py\", line 246, in check\n",
      "    superreload(m, reload, self.old_objects)\n",
      "  File \"/home/paperspace/anaconda3/envs/fastai/lib/python3.6/site-packages/IPython/extensions/autoreload.py\", line 369, in superreload\n",
      "    module = reload(module)\n",
      "  File \"/home/paperspace/anaconda3/envs/fastai/lib/python3.6/imp.py\", line 315, in reload\n",
      "    return importlib.reload(module)\n",
      "  File \"/home/paperspace/anaconda3/envs/fastai/lib/python3.6/importlib/__init__.py\", line 166, in reload\n",
      "    _bootstrap._exec(spec, module)\n",
      "  File \"<frozen importlib._bootstrap>\", line 618, in _exec\n",
      "  File \"<frozen importlib._bootstrap_external>\", line 678, in exec_module\n",
      "  File \"<frozen importlib._bootstrap>\", line 219, in _call_with_frames_removed\n",
      "  File \"/home/paperspace/fastai/fastai/vision/models/xresnet.py\", line 5, in <module>\n",
      "    from ...torch_core import Module\n",
      "ImportError: cannot import name 'Module'\n",
      "]\n",
      "[autoreload of fastai.vision.models.darknet failed: Traceback (most recent call last):\n",
      "  File \"/home/paperspace/anaconda3/envs/fastai/lib/python3.6/site-packages/IPython/extensions/autoreload.py\", line 246, in check\n",
      "    superreload(m, reload, self.old_objects)\n",
      "  File \"/home/paperspace/anaconda3/envs/fastai/lib/python3.6/site-packages/IPython/extensions/autoreload.py\", line 369, in superreload\n",
      "    module = reload(module)\n",
      "  File \"/home/paperspace/anaconda3/envs/fastai/lib/python3.6/imp.py\", line 315, in reload\n",
      "    return importlib.reload(module)\n",
      "  File \"/home/paperspace/anaconda3/envs/fastai/lib/python3.6/importlib/__init__.py\", line 166, in reload\n",
      "    _bootstrap._exec(spec, module)\n",
      "  File \"<frozen importlib._bootstrap>\", line 618, in _exec\n",
      "  File \"<frozen importlib._bootstrap_external>\", line 678, in exec_module\n",
      "  File \"<frozen importlib._bootstrap>\", line 219, in _call_with_frames_removed\n",
      "  File \"/home/paperspace/fastai/fastai/vision/models/darknet.py\", line 13, in <module>\n",
      "    class ResLayer(Module):\n",
      "NameError: name 'Module' is not defined\n",
      "]\n",
      "[autoreload of fastai.vision.models.unet failed: Traceback (most recent call last):\n",
      "  File \"/home/paperspace/anaconda3/envs/fastai/lib/python3.6/site-packages/IPython/extensions/autoreload.py\", line 246, in check\n",
      "    superreload(m, reload, self.old_objects)\n",
      "  File \"/home/paperspace/anaconda3/envs/fastai/lib/python3.6/site-packages/IPython/extensions/autoreload.py\", line 369, in superreload\n",
      "    module = reload(module)\n",
      "  File \"/home/paperspace/anaconda3/envs/fastai/lib/python3.6/imp.py\", line 315, in reload\n",
      "    return importlib.reload(module)\n",
      "  File \"/home/paperspace/anaconda3/envs/fastai/lib/python3.6/importlib/__init__.py\", line 166, in reload\n",
      "    _bootstrap._exec(spec, module)\n",
      "  File \"<frozen importlib._bootstrap>\", line 618, in _exec\n",
      "  File \"<frozen importlib._bootstrap_external>\", line 678, in exec_module\n",
      "  File \"<frozen importlib._bootstrap>\", line 219, in _call_with_frames_removed\n",
      "  File \"/home/paperspace/fastai/fastai/vision/models/unet.py\", line 14, in <module>\n",
      "    class UnetBlock(Module):\n",
      "NameError: name 'Module' is not defined\n",
      "]\n",
      "[autoreload of fastai.vision.models.wrn failed: Traceback (most recent call last):\n",
      "  File \"/home/paperspace/anaconda3/envs/fastai/lib/python3.6/site-packages/IPython/extensions/autoreload.py\", line 246, in check\n",
      "    superreload(m, reload, self.old_objects)\n",
      "  File \"/home/paperspace/anaconda3/envs/fastai/lib/python3.6/site-packages/IPython/extensions/autoreload.py\", line 369, in superreload\n",
      "    module = reload(module)\n",
      "  File \"/home/paperspace/anaconda3/envs/fastai/lib/python3.6/imp.py\", line 315, in reload\n",
      "    return importlib.reload(module)\n",
      "  File \"/home/paperspace/anaconda3/envs/fastai/lib/python3.6/importlib/__init__.py\", line 166, in reload\n",
      "    _bootstrap._exec(spec, module)\n",
      "  File \"<frozen importlib._bootstrap>\", line 618, in _exec\n",
      "  File \"<frozen importlib._bootstrap_external>\", line 678, in exec_module\n",
      "  File \"<frozen importlib._bootstrap>\", line 219, in _call_with_frames_removed\n",
      "  File \"/home/paperspace/fastai/fastai/vision/models/wrn.py\", line 17, in <module>\n",
      "    class BasicBlock(Module):\n",
      "NameError: name 'Module' is not defined\n",
      "]\n",
      "[autoreload of fastai.vision.models.xception failed: Traceback (most recent call last):\n",
      "  File \"/home/paperspace/anaconda3/envs/fastai/lib/python3.6/site-packages/IPython/extensions/autoreload.py\", line 246, in check\n",
      "    superreload(m, reload, self.old_objects)\n",
      "  File \"/home/paperspace/anaconda3/envs/fastai/lib/python3.6/site-packages/IPython/extensions/autoreload.py\", line 369, in superreload\n",
      "    module = reload(module)\n",
      "  File \"/home/paperspace/anaconda3/envs/fastai/lib/python3.6/imp.py\", line 315, in reload\n",
      "    return importlib.reload(module)\n",
      "  File \"/home/paperspace/anaconda3/envs/fastai/lib/python3.6/importlib/__init__.py\", line 166, in reload\n",
      "    _bootstrap._exec(spec, module)\n",
      "  File \"<frozen importlib._bootstrap>\", line 618, in _exec\n",
      "  File \"<frozen importlib._bootstrap_external>\", line 678, in exec_module\n",
      "  File \"<frozen importlib._bootstrap>\", line 219, in _call_with_frames_removed\n",
      "  File \"/home/paperspace/fastai/fastai/vision/models/xception.py\", line 24, in <module>\n",
      "    class ConvSkip(Module):\n",
      "NameError: name 'Module' is not defined\n",
      "]\n"
     ]
    },
    {
     "name": "stderr",
     "output_type": "stream",
     "text": [
      "[autoreload of fastai.vision.models.xception failed: Traceback (most recent call last):\n",
      "  File \"/home/paperspace/anaconda3/envs/fastai/lib/python3.6/site-packages/IPython/extensions/autoreload.py\", line 246, in check\n",
      "    superreload(m, reload, self.old_objects)\n",
      "  File \"/home/paperspace/anaconda3/envs/fastai/lib/python3.6/site-packages/IPython/extensions/autoreload.py\", line 369, in superreload\n",
      "    module = reload(module)\n",
      "  File \"/home/paperspace/anaconda3/envs/fastai/lib/python3.6/imp.py\", line 315, in reload\n",
      "    return importlib.reload(module)\n",
      "  File \"/home/paperspace/anaconda3/envs/fastai/lib/python3.6/importlib/__init__.py\", line 166, in reload\n",
      "    _bootstrap._exec(spec, module)\n",
      "  File \"<frozen importlib._bootstrap>\", line 618, in _exec\n",
      "  File \"<frozen importlib._bootstrap_external>\", line 678, in exec_module\n",
      "  File \"<frozen importlib._bootstrap>\", line 219, in _call_with_frames_removed\n",
      "  File \"/home/paperspace/fastai/fastai/vision/models/xception.py\", line 24, in <module>\n",
      "    class ConvSkip(Module):\n",
      "NameError: name 'Module' is not defined\n",
      "]\n",
      "[autoreload of fastai.vision.models.xception failed: Traceback (most recent call last):\n",
      "  File \"/home/paperspace/anaconda3/envs/fastai/lib/python3.6/site-packages/IPython/extensions/autoreload.py\", line 246, in check\n",
      "    superreload(m, reload, self.old_objects)\n",
      "  File \"/home/paperspace/anaconda3/envs/fastai/lib/python3.6/site-packages/IPython/extensions/autoreload.py\", line 369, in superreload\n",
      "    module = reload(module)\n",
      "  File \"/home/paperspace/anaconda3/envs/fastai/lib/python3.6/imp.py\", line 315, in reload\n",
      "    return importlib.reload(module)\n",
      "  File \"/home/paperspace/anaconda3/envs/fastai/lib/python3.6/importlib/__init__.py\", line 166, in reload\n",
      "    _bootstrap._exec(spec, module)\n",
      "  File \"<frozen importlib._bootstrap>\", line 618, in _exec\n",
      "  File \"<frozen importlib._bootstrap_external>\", line 678, in exec_module\n",
      "  File \"<frozen importlib._bootstrap>\", line 219, in _call_with_frames_removed\n",
      "  File \"/home/paperspace/fastai/fastai/vision/models/xception.py\", line 24, in <module>\n",
      "    class ConvSkip(Module):\n",
      "NameError: name 'Module' is not defined\n",
      "]\n"
     ]
    }
   ],
   "source": [
    "from fastai.vision import *\n",
    "from fastai.datasets import *\n",
    "import torch\n",
    "import torch.nn as nn\n",
    "import torch.nn.functional as F\n",
    "import pandas as pd\n",
    "import numpy as np\n",
    "import torchvision as ptv\n",
    "from torch.utils.data import DataLoader\n",
    "from torchvision.datasets import MNIST\n",
    "from utils.blocks import *\n",
    "from utils.clr import *\n",
    "\n",
    "from collections import OrderedDict\n",
    "from pathlib import Path\n",
    "\n",
    "import matplotlib.pyplot as plt\n",
    "from scipy import signal"
   ]
  },
  {
   "cell_type": "code",
   "execution_count": 5,
   "metadata": {},
   "outputs": [
    {
     "ename": "ModuleNotFoundError",
     "evalue": "No module named 'fastai.dataset'",
     "output_type": "error",
     "traceback": [
      "\u001b[0;31m---------------------------------------------------------------------------\u001b[0m",
      "\u001b[0;31mModuleNotFoundError\u001b[0m                       Traceback (most recent call last)",
      "\u001b[0;32m<ipython-input-5-9e4bd1badc61>\u001b[0m in \u001b[0;36m<module>\u001b[0;34m()\u001b[0m\n\u001b[1;32m      5\u001b[0m \u001b[0;32mimport\u001b[0m \u001b[0mnumpy\u001b[0m \u001b[0;32mas\u001b[0m \u001b[0mnp\u001b[0m\u001b[0;34m\u001b[0m\u001b[0m\n\u001b[1;32m      6\u001b[0m \u001b[0;32mimport\u001b[0m \u001b[0mtorchvision\u001b[0m \u001b[0;32mas\u001b[0m \u001b[0mptv\u001b[0m\u001b[0;34m\u001b[0m\u001b[0m\n\u001b[0;32m----> 7\u001b[0;31m \u001b[0;32mfrom\u001b[0m \u001b[0mfastai\u001b[0m\u001b[0;34m.\u001b[0m\u001b[0mdataset\u001b[0m \u001b[0;32mimport\u001b[0m \u001b[0;34m*\u001b[0m\u001b[0;34m\u001b[0m\u001b[0m\n\u001b[0m\u001b[1;32m      8\u001b[0m \u001b[0;32mfrom\u001b[0m \u001b[0mfastai\u001b[0m\u001b[0;34m.\u001b[0m\u001b[0mconv_learner\u001b[0m \u001b[0;32mimport\u001b[0m \u001b[0;34m*\u001b[0m\u001b[0;34m\u001b[0m\u001b[0m\n\u001b[1;32m      9\u001b[0m \u001b[0;32mfrom\u001b[0m \u001b[0mtorch\u001b[0m\u001b[0;34m.\u001b[0m\u001b[0mutils\u001b[0m\u001b[0;34m.\u001b[0m\u001b[0mdata\u001b[0m \u001b[0;32mimport\u001b[0m \u001b[0mDataLoader\u001b[0m\u001b[0;34m\u001b[0m\u001b[0m\n",
      "\u001b[0;31mModuleNotFoundError\u001b[0m: No module named 'fastai.dataset'"
     ]
    }
   ],
   "source": [
    "# import torch\n",
    "# import torch.nn as nn\n",
    "# import torch.nn.functional as F\n",
    "# import pandas as pd\n",
    "# import numpy as np\n",
    "# import torchvision as ptv\n",
    "# from fastai.dataset import *\n",
    "# from fastai.conv_learner import *\n",
    "# from torch.utils.data import DataLoader\n",
    "# from torchvision.datasets import MNIST\n",
    "# from utils.blocks import *\n",
    "# from utils.clr import *\n",
    "\n",
    "# from collections import OrderedDict\n",
    "# from pathlib import Path\n",
    "\n",
    "# import matplotlib.pyplot as plt\n",
    "# from scipy import signal"
   ]
  },
  {
   "cell_type": "code",
   "execution_count": 6,
   "metadata": {},
   "outputs": [
    {
     "name": "stdout",
     "output_type": "stream",
     "text": [
      "True\n"
     ]
    }
   ],
   "source": [
    "use_cuda = torch.cuda.is_available(); print(use_cuda)\n",
    "device = torch.device(\"cuda:0\" if use_cuda else \"cpu\")\n",
    "torch.backends.cudnn.benchmark = True\n",
    "CUDA_LAUNCH_BLOCKING=1\n",
    "%matplotlib inline\n",
    "%reload_ext autoreload\n",
    "%autoreload 2"
   ]
  },
  {
   "cell_type": "code",
   "execution_count": 7,
   "metadata": {},
   "outputs": [],
   "source": [
    "bs = 20\n",
    "sz = 28"
   ]
  },
  {
   "cell_type": "code",
   "execution_count": 8,
   "metadata": {},
   "outputs": [],
   "source": [
    "PATH = Path(\"../data/mnist\")\n",
    "train = MNIST(PATH, train=True, transform=ptv.transforms.ToTensor())\n",
    "val = MNIST(PATH, train=False, transform=ptv.transforms.ToTensor())\n",
    "\n",
    "trn_dl = DataLoader(train, batch_size=bs)\n",
    "val_dl = DataLoader(val, batch_size=bs)"
   ]
  },
  {
   "cell_type": "code",
   "execution_count": 13,
   "metadata": {},
   "outputs": [
    {
     "data": {
      "text/plain": [
       "torch.Size([28, 28])"
      ]
     },
     "execution_count": 13,
     "metadata": {},
     "output_type": "execute_result"
    }
   ],
   "source": [
    "trn_dl.dataset.train_data[1].shape"
   ]
  },
  {
   "cell_type": "code",
   "execution_count": 6,
   "metadata": {
    "scrolled": true
   },
   "outputs": [],
   "source": [
    "# imgs = df[:int(len(df)*params[\"t_pc\"])].drop(\"label\", axis =1)\n",
    "# imgs = imgs/255.0\n",
    "# val_idxs = get_cv_idxs(len(imgs))\n",
    "# ((x_val, x_train),) = split_by_idx(val_idxs, imgs)"
   ]
  },
  {
   "cell_type": "code",
   "execution_count": 28,
   "metadata": {},
   "outputs": [
    {
     "data": {
      "text/plain": [
       "PosixPath('../data/mnist/mnist_png')"
      ]
     },
     "execution_count": 28,
     "metadata": {},
     "output_type": "execute_result"
    }
   ],
   "source": [
    "# y_val = ys[ys.index.isin(x_val.index)]\n",
    "# y_train = ys[ys.index.isin(x_train.index)]\n",
    "# def conv_calc(w,q,p,s):\n",
    "#     y = (w-q+2*p)/s+1\n",
    "#     print(y)\n",
    "#     return y\n",
    "\n",
    "# q = conv_calc(28,4,1,2)\n",
    "# q = conv_calc(q,4,1,2)\n",
    "# ??untar_data\n",
    "untar_data(URLs.MNIST,dest=PATH)"
   ]
  },
  {
   "cell_type": "code",
   "execution_count": 8,
   "metadata": {},
   "outputs": [],
   "source": [
    "# x_val = x_val.values.reshape(-1,1,params[\"sz\"],params[\"sz\"])\n",
    "# x_train = x_train.values.reshape(-1,1,params[\"sz\"],params[\"sz\"])"
   ]
  },
  {
   "cell_type": "code",
   "execution_count": 9,
   "metadata": {},
   "outputs": [],
   "source": [
    "md = ImageClassifierData.from_arrays(PATH, (x_train, x_train), (x_val, x_val), bs=params[\"bs\"])"
   ]
  },
  {
   "cell_type": "code",
   "execution_count": 14,
   "metadata": {},
   "outputs": [],
   "source": [
    "class StdConv(nn.Module):\n",
    "    def __init__(self, nin, nout, stri=2, kern=4, pad=1, drop=0.1, relu=True):\n",
    "        super().__init__()\n",
    "        self.conv = nn.Conv2d(nin, nout, kernel_size=kern, stride=stri, padding=pad,bias=False)\n",
    "        self.bn = nn.BatchNorm2d(nout)\n",
    "        self.drop = nn.Dropout(drop)\n",
    "        self.relu = relu\n",
    "    def forward(self, x):\n",
    "        if self.relu:\n",
    "            return self.drop(self.bn(F.relu(self.conv(x))))\n",
    "        else:\n",
    "            return self.drop(self.bn(self.conv(x)))\n",
    "        \n",
    "class StdUpsample(nn.Module):\n",
    "    def __init__(self, nin, nout, pad=0):\n",
    "        super().__init__()\n",
    "        self.conv = nn.ConvTranspose2d(nin, nout, 2, stride=2,padding=pad)\n",
    "        self.bn = nn.BatchNorm2d(nout)\n",
    "        \n",
    "    def forward(self, x): return self.bn(F.relu(self.conv(x)))\n",
    "    \n",
    "class StdLinear(nn.Module):\n",
    "    def __init__(self, nin, nout, relu=True):\n",
    "        super().__init__()\n",
    "        self.lin = nn.Linear(nin, nout)\n",
    "        self.relu = relu\n",
    "    def forward(self, x):\n",
    "        if self.relu: return F.relu(self.lin(x))\n",
    "        return self.lin(x)\n",
    "\n",
    "class VAE(nn.Module):\n",
    "    def __init__(self, n_latent):\n",
    "        super().__init__()\n",
    "        self.n_latent = n_latent\n",
    "        self.z_dim = 28//2**2\n",
    "        self.h_dim = 64 * self.z_dim**2\n",
    "        \n",
    "        #encoder\n",
    "        self.conv1 = StdConv(1,32)\n",
    "        self.conv2 = StdConv(32,64)\n",
    "        \n",
    "        #q\n",
    "        self.q_mean = StdLinear(self.h_dim, self.n_latent)\n",
    "        self.q_logvar = StdLinear(self.h_dim, self.n_latent)\n",
    "        self.q_project = StdLinear(n_latent, self.h_dim, False)\n",
    "        \n",
    "        #decoder\n",
    "        self.upconv1 = StdUpsample(64, 32)\n",
    "        self.upconv2 = StdUpsample(32,1)\n",
    "    \n",
    "    def encode(self, x):\n",
    "        x = self.conv1(x)\n",
    "        self.xc1 = x\n",
    "        x = self.conv2(x)\n",
    "        self.xc2 = x\n",
    "        return x.view(x.size(0),-1)\n",
    "    \n",
    "    def z(self, flattened):\n",
    "        self.mean, self.logvar = self.q_mean(flattened), self.q_logvar(flattened)\n",
    "        std = self.logvar.mul(.5).exp_()\n",
    "        eps = Variable(torch.randn(std.size())).cuda()\n",
    "        return eps.mul(std).add_(self.mean)\n",
    "    \n",
    "    def decode(self, z, train=True):\n",
    "        z = self.q_project(z).view(-1, 64, self.z_dim, self.z_dim)\n",
    "        if train: torch.cat([z,self.xc2], dim=1)\n",
    "        z = self.upconv1(z)\n",
    "        if train: torch.cat([z,self.xc1], dim=1)\n",
    "        z = self.upconv2(z)\n",
    "        return z\n",
    "    \n",
    "    def forward(self, x):\n",
    "        flattened = self.encode(x)\n",
    "        z = self.z(flattened)\n",
    "        decoded = self.decode(z)\n",
    "        \n",
    "        return (decoded, (self.mean, self.logvar))"
   ]
  },
  {
   "cell_type": "code",
   "execution_count": 15,
   "metadata": {},
   "outputs": [],
   "source": [
    "class StableBCELoss(nn.modules.Module):\n",
    "    def __init__(self):\n",
    "         super(StableBCELoss, self).__init__()\n",
    "    def forward(self, input, target):\n",
    "        neg_abs = - input.abs()\n",
    "        loss = input.clamp(min=0) - input * target + (1 + neg_abs.exp()).log()\n",
    "        return loss.mean()\n",
    "    \n",
    "def loss(output, x):\n",
    "    return nn.MSELoss(size_average=False)(output, x)\n",
    "    \n",
    "def kl_loss(decoded, xtras, raw_loss):\n",
    "    if isinstance(xtras, list): xtras = xtras[0]\n",
    "    mean, logvar = xtras\n",
    "    kl = -0.5 * torch.sum(1 + logvar - mean.pow(2) - logvar.exp())\n",
    "    return kl*.7 + raw_loss\n",
    "\n",
    "def vae_loss(output, x):\n",
    "    decoded, xtras = output\n",
    "    recon_loss = nn.MSELoss()(decoded, x)\n",
    "    loss = kl_loss(decoded, xtras, recon_loss)\n",
    "    return loss, recon_loss, loss - recon_loss"
   ]
  },
  {
   "cell_type": "code",
   "execution_count": 16,
   "metadata": {},
   "outputs": [
    {
     "ename": "NameError",
     "evalue": "name 'ConvLearner' is not defined",
     "output_type": "error",
     "traceback": [
      "\u001b[0;31m---------------------------------------------------------------------------\u001b[0m",
      "\u001b[0;31mNameError\u001b[0m                                 Traceback (most recent call last)",
      "\u001b[0;32m<ipython-input-16-4b4d3524e0f5>\u001b[0m in \u001b[0;36m<module>\u001b[0;34m()\u001b[0m\n\u001b[1;32m      1\u001b[0m \u001b[0mnet\u001b[0m \u001b[0;34m=\u001b[0m \u001b[0mVAE\u001b[0m\u001b[0;34m(\u001b[0m\u001b[0;36m16\u001b[0m\u001b[0;34m)\u001b[0m\u001b[0;34m\u001b[0m\u001b[0m\n\u001b[1;32m      2\u001b[0m \u001b[0;31m# learn = ConvLearner.from_model_data(net, md)\u001b[0m\u001b[0;34m\u001b[0m\u001b[0;34m\u001b[0m\u001b[0m\n\u001b[0;32m----> 3\u001b[0;31m \u001b[0mlearn\u001b[0m \u001b[0;34m=\u001b[0m \u001b[0mConvLearner\u001b[0m\u001b[0;34m.\u001b[0m\u001b[0mfrom_model_data\u001b[0m\u001b[0;34m(\u001b[0m\u001b[0mnet\u001b[0m\u001b[0;34m,\u001b[0m\u001b[0mtrn_dl\u001b[0m\u001b[0;34m)\u001b[0m\u001b[0;34m\u001b[0m\u001b[0m\n\u001b[0m",
      "\u001b[0;31mNameError\u001b[0m: name 'ConvLearner' is not defined"
     ]
    }
   ],
   "source": [
    "net = VAE(16)\n",
    "# learn = ConvLearner.from_model_data(net, md)\n",
    "learn = ConvLearner.from_model_data(net,trn_dl)"
   ]
  },
  {
   "cell_type": "code",
   "execution_count": null,
   "metadata": {
    "scrolled": true
   },
   "outputs": [],
   "source": [
    "learn.load(\"U-CVAE4\")"
   ]
  },
  {
   "cell_type": "code",
   "execution_count": null,
   "metadata": {},
   "outputs": [],
   "source": [
    "x,y = next(iter(md.val_dl))\n",
    "x = V(x)\n",
    "p = learn.model(x)\n",
    "vae_loss(p, x)"
   ]
  },
  {
   "cell_type": "code",
   "execution_count": null,
   "metadata": {},
   "outputs": [],
   "source": [
    "learn.model.cuda()\n",
    "learn.opt_fn = optim.Adam\n",
    "learn.crit = loss\n",
    "learn.reg_fn = kl_loss\n",
    "\n",
    "learn.lr_find()\n",
    "learn.sched.plot()"
   ]
  },
  {
   "cell_type": "code",
   "execution_count": null,
   "metadata": {},
   "outputs": [],
   "source": [
    "lr = 2e-5\n",
    "learn.fit(lr, 1 ,cycle_len=20, use_clr=(20,10),metrics=[])"
   ]
  },
  {
   "cell_type": "code",
   "execution_count": null,
   "metadata": {},
   "outputs": [],
   "source": [
    "# learn.save(\"U-CVAE4\")"
   ]
  },
  {
   "cell_type": "code",
   "execution_count": null,
   "metadata": {},
   "outputs": [],
   "source": [
    "x,y = next(iter(md.val_dl))\n",
    "x,y = V(x), V(y)\n",
    "# plt.imshow(x[3][0,:,:])\n",
    "im,x = learn.model(x)\n",
    "plt.imshow(im.data[2].cpu().numpy().reshape(28,28)*255.)"
   ]
  },
  {
   "cell_type": "code",
   "execution_count": null,
   "metadata": {},
   "outputs": [],
   "source": [
    "g = iter(md.val_dl)"
   ]
  },
  {
   "cell_type": "code",
   "execution_count": null,
   "metadata": {},
   "outputs": [],
   "source": [
    "def generate(bs=params[\"bs\"]):\n",
    "    vx = torch.FloatTensor([np.random.normal(0, 1, params[\"sz\"]**2) for _ in range(bs)]).cuda()\n",
    "    vx = V(vx).view(-1,1,params[\"sz\"],params[\"sz\"])\n",
    "    return learn.model(vx)\n",
    "\n",
    "def display_recon(g=iter(md.val_dl),bs=params[\"bs\"]//2):\n",
    "    x, _ = next(g)\n",
    "    vx = V(x[:bs])\n",
    "    z_im, _ = learn.model(vx)\n",
    "    z_im = z_im.data.cpu().numpy()\n",
    "    fig, axes = plt.subplots(2, bs, figsize=(10,3))\n",
    "    for ax, im in enumerate(x[:bs]):\n",
    "        axes[0,ax].imshow(im[0,:,:])\n",
    "        axes[1,ax].imshow(z_im[ax].reshape(28,28)*255.)\n",
    "    plt.tight_layout()\n",
    "    \n",
    "def display_gen(bs=params[\"bs\"]):\n",
    "    ims, xtras = generate(bs)\n",
    "    ims = ims.data.cpu().numpy()\n",
    "    ims = ims.reshape(-1,28,28)*255.\n",
    "    plt.figure(figsize=(10,3))\n",
    "    for i, im in enumerate(ims):\n",
    "        plt.subplot(2,bs/2,i+1)\n",
    "        plt.imshow(im)\n",
    "    plt.tight_layout()"
   ]
  },
  {
   "cell_type": "code",
   "execution_count": null,
   "metadata": {},
   "outputs": [],
   "source": [
    "display_recon(g); display_gen()"
   ]
  },
  {
   "cell_type": "code",
   "execution_count": null,
   "metadata": {},
   "outputs": [],
   "source": [
    "display_recon(g); display_gen()"
   ]
  },
  {
   "cell_type": "code",
   "execution_count": null,
   "metadata": {},
   "outputs": [],
   "source": [
    "# x, _ = next(g)\n",
    "# vx = V(x[:params[\"bs\"]])\n",
    "# e = learn.model.encode(vx)\n",
    "# z = learn.model.z(e)\n",
    "d2= learn.model.decode(z)\n",
    "d = learn.model.decode(z, False)\n",
    "z_im2 = d.data.cpu().numpy()\n",
    "z_im = d.data.cpu().numpy()\n",
    "fig, axes = plt.subplots(3, params[\"bs\"], figsize=(14,3))\n",
    "for ax, im in enumerate(x[:params[\"bs\"]]):\n",
    "    axes[0,ax].imshow(im[0,:,:])\n",
    "    axes[1,ax].imshow(z_im[ax].reshape(28,28)*255.)\n",
    "    axes[2,ax].imshow(z_im2[ax].reshape(28,28)*255.)\n",
    "plt.tight_layout()"
   ]
  },
  {
   "cell_type": "code",
   "execution_count": null,
   "metadata": {},
   "outputs": [],
   "source": []
  }
 ],
 "metadata": {
  "kernelspec": {
   "display_name": "Python 3",
   "language": "python",
   "name": "python3"
  },
  "language_info": {
   "codemirror_mode": {
    "name": "ipython",
    "version": 3
   },
   "file_extension": ".py",
   "mimetype": "text/x-python",
   "name": "python",
   "nbconvert_exporter": "python",
   "pygments_lexer": "ipython3",
   "version": "3.6.4"
  }
 },
 "nbformat": 4,
 "nbformat_minor": 2
}
