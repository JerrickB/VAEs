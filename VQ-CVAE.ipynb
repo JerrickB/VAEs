{
 "cells": [
  {
   "cell_type": "code",
   "execution_count": 1,
   "metadata": {},
   "outputs": [
    {
     "ename": "ModuleNotFoundError",
     "evalue": "No module named 'fastai.model'",
     "output_type": "error",
     "traceback": [
      "\u001b[0;31m---------------------------------------------------------------------------\u001b[0m",
      "\u001b[0;31mModuleNotFoundError\u001b[0m                       Traceback (most recent call last)",
      "\u001b[0;32m<ipython-input-1-b9eb6cfcbc0a>\u001b[0m in \u001b[0;36m<module>\u001b[0;34m()\u001b[0m\n\u001b[0;32m----> 1\u001b[0;31m \u001b[0;32mfrom\u001b[0m \u001b[0mfastai\u001b[0m\u001b[0;34m.\u001b[0m\u001b[0mmodel\u001b[0m \u001b[0;32mimport\u001b[0m \u001b[0;34m*\u001b[0m\u001b[0;34m\u001b[0m\u001b[0m\n\u001b[0m\u001b[1;32m      2\u001b[0m \u001b[0;32mfrom\u001b[0m \u001b[0mfastai\u001b[0m\u001b[0;34m.\u001b[0m\u001b[0mdataset\u001b[0m \u001b[0;32mimport\u001b[0m \u001b[0;34m*\u001b[0m\u001b[0;34m\u001b[0m\u001b[0m\n\u001b[1;32m      3\u001b[0m \u001b[0;32mfrom\u001b[0m \u001b[0mfastai\u001b[0m\u001b[0;34m.\u001b[0m\u001b[0mconv_learner\u001b[0m \u001b[0;32mimport\u001b[0m \u001b[0;34m*\u001b[0m\u001b[0;34m\u001b[0m\u001b[0m\n\u001b[1;32m      4\u001b[0m \u001b[0;32mfrom\u001b[0m \u001b[0mutils\u001b[0m\u001b[0;34m.\u001b[0m\u001b[0mclr\u001b[0m \u001b[0;32mimport\u001b[0m \u001b[0;34m*\u001b[0m\u001b[0;34m\u001b[0m\u001b[0m\n\u001b[1;32m      5\u001b[0m \u001b[0;32mfrom\u001b[0m \u001b[0mpathlib\u001b[0m \u001b[0;32mimport\u001b[0m \u001b[0mPath\u001b[0m\u001b[0;34m\u001b[0m\u001b[0m\n",
      "\u001b[0;31mModuleNotFoundError\u001b[0m: No module named 'fastai.model'"
     ]
    }
   ],
   "source": [
    "from fastai.model import *\n",
    "from fastai.dataset import *\n",
    "from fastai.conv_learner import *\n",
    "from utils.clr import *\n",
    "from pathlib import Path\n",
    "torch.cuda.set_device(0)\n",
    "torch.backends.cudnn.benchmark=True\n",
    "%matplotlib inline\n",
    "%reload_ext autoreload\n",
    "%autoreload 2"
   ]
  },
  {
   "cell_type": "code",
   "execution_count": 4,
   "metadata": {},
   "outputs": [],
   "source": [
    "PATH = Path(\"../data/mnist\")"
   ]
  },
  {
   "cell_type": "code",
   "execution_count": 5,
   "metadata": {},
   "outputs": [],
   "source": [
    "params = {\"bs\":16,\n",
    "         \"sz\": 28,\n",
    "         \"t_pc\": 1,\n",
    "         \"epochs\": 7,\n",
    "         \"lr\": 2e-3}"
   ]
  },
  {
   "cell_type": "code",
   "execution_count": 6,
   "metadata": {},
   "outputs": [
    {
     "ename": "FileNotFoundError",
     "evalue": "File b'../data/mnist/train.csv' does not exist",
     "output_type": "error",
     "traceback": [
      "\u001b[0;31m---------------------------------------------------------------------------\u001b[0m",
      "\u001b[0;31mFileNotFoundError\u001b[0m                         Traceback (most recent call last)",
      "\u001b[0;32m<ipython-input-6-e642ab752ade>\u001b[0m in \u001b[0;36m<module>\u001b[0;34m()\u001b[0m\n\u001b[0;32m----> 1\u001b[0;31m \u001b[0mdf\u001b[0m \u001b[0;34m=\u001b[0m \u001b[0mpd\u001b[0m\u001b[0;34m.\u001b[0m\u001b[0mread_csv\u001b[0m\u001b[0;34m(\u001b[0m\u001b[0mPATH\u001b[0m\u001b[0;34m/\u001b[0m\u001b[0;34m\"train.csv\"\u001b[0m\u001b[0;34m)\u001b[0m\u001b[0;34m\u001b[0m\u001b[0m\n\u001b[0m",
      "\u001b[0;32m~/anaconda3/envs/fastai/lib/python3.6/site-packages/pandas/io/parsers.py\u001b[0m in \u001b[0;36mparser_f\u001b[0;34m(filepath_or_buffer, sep, delimiter, header, names, index_col, usecols, squeeze, prefix, mangle_dupe_cols, dtype, engine, converters, true_values, false_values, skipinitialspace, skiprows, nrows, na_values, keep_default_na, na_filter, verbose, skip_blank_lines, parse_dates, infer_datetime_format, keep_date_col, date_parser, dayfirst, iterator, chunksize, compression, thousands, decimal, lineterminator, quotechar, quoting, escapechar, comment, encoding, dialect, tupleize_cols, error_bad_lines, warn_bad_lines, skipfooter, skip_footer, doublequote, delim_whitespace, as_recarray, compact_ints, use_unsigned, low_memory, buffer_lines, memory_map, float_precision)\u001b[0m\n\u001b[1;32m    707\u001b[0m                     skip_blank_lines=skip_blank_lines)\n\u001b[1;32m    708\u001b[0m \u001b[0;34m\u001b[0m\u001b[0m\n\u001b[0;32m--> 709\u001b[0;31m         \u001b[0;32mreturn\u001b[0m \u001b[0m_read\u001b[0m\u001b[0;34m(\u001b[0m\u001b[0mfilepath_or_buffer\u001b[0m\u001b[0;34m,\u001b[0m \u001b[0mkwds\u001b[0m\u001b[0;34m)\u001b[0m\u001b[0;34m\u001b[0m\u001b[0m\n\u001b[0m\u001b[1;32m    710\u001b[0m \u001b[0;34m\u001b[0m\u001b[0m\n\u001b[1;32m    711\u001b[0m     \u001b[0mparser_f\u001b[0m\u001b[0;34m.\u001b[0m\u001b[0m__name__\u001b[0m \u001b[0;34m=\u001b[0m \u001b[0mname\u001b[0m\u001b[0;34m\u001b[0m\u001b[0m\n",
      "\u001b[0;32m~/anaconda3/envs/fastai/lib/python3.6/site-packages/pandas/io/parsers.py\u001b[0m in \u001b[0;36m_read\u001b[0;34m(filepath_or_buffer, kwds)\u001b[0m\n\u001b[1;32m    447\u001b[0m \u001b[0;34m\u001b[0m\u001b[0m\n\u001b[1;32m    448\u001b[0m     \u001b[0;31m# Create the parser.\u001b[0m\u001b[0;34m\u001b[0m\u001b[0;34m\u001b[0m\u001b[0m\n\u001b[0;32m--> 449\u001b[0;31m     \u001b[0mparser\u001b[0m \u001b[0;34m=\u001b[0m \u001b[0mTextFileReader\u001b[0m\u001b[0;34m(\u001b[0m\u001b[0mfilepath_or_buffer\u001b[0m\u001b[0;34m,\u001b[0m \u001b[0;34m**\u001b[0m\u001b[0mkwds\u001b[0m\u001b[0;34m)\u001b[0m\u001b[0;34m\u001b[0m\u001b[0m\n\u001b[0m\u001b[1;32m    450\u001b[0m \u001b[0;34m\u001b[0m\u001b[0m\n\u001b[1;32m    451\u001b[0m     \u001b[0;32mif\u001b[0m \u001b[0mchunksize\u001b[0m \u001b[0;32mor\u001b[0m \u001b[0miterator\u001b[0m\u001b[0;34m:\u001b[0m\u001b[0;34m\u001b[0m\u001b[0m\n",
      "\u001b[0;32m~/anaconda3/envs/fastai/lib/python3.6/site-packages/pandas/io/parsers.py\u001b[0m in \u001b[0;36m__init__\u001b[0;34m(self, f, engine, **kwds)\u001b[0m\n\u001b[1;32m    816\u001b[0m             \u001b[0mself\u001b[0m\u001b[0;34m.\u001b[0m\u001b[0moptions\u001b[0m\u001b[0;34m[\u001b[0m\u001b[0;34m'has_index_names'\u001b[0m\u001b[0;34m]\u001b[0m \u001b[0;34m=\u001b[0m \u001b[0mkwds\u001b[0m\u001b[0;34m[\u001b[0m\u001b[0;34m'has_index_names'\u001b[0m\u001b[0;34m]\u001b[0m\u001b[0;34m\u001b[0m\u001b[0m\n\u001b[1;32m    817\u001b[0m \u001b[0;34m\u001b[0m\u001b[0m\n\u001b[0;32m--> 818\u001b[0;31m         \u001b[0mself\u001b[0m\u001b[0;34m.\u001b[0m\u001b[0m_make_engine\u001b[0m\u001b[0;34m(\u001b[0m\u001b[0mself\u001b[0m\u001b[0;34m.\u001b[0m\u001b[0mengine\u001b[0m\u001b[0;34m)\u001b[0m\u001b[0;34m\u001b[0m\u001b[0m\n\u001b[0m\u001b[1;32m    819\u001b[0m \u001b[0;34m\u001b[0m\u001b[0m\n\u001b[1;32m    820\u001b[0m     \u001b[0;32mdef\u001b[0m \u001b[0mclose\u001b[0m\u001b[0;34m(\u001b[0m\u001b[0mself\u001b[0m\u001b[0;34m)\u001b[0m\u001b[0;34m:\u001b[0m\u001b[0;34m\u001b[0m\u001b[0m\n",
      "\u001b[0;32m~/anaconda3/envs/fastai/lib/python3.6/site-packages/pandas/io/parsers.py\u001b[0m in \u001b[0;36m_make_engine\u001b[0;34m(self, engine)\u001b[0m\n\u001b[1;32m   1047\u001b[0m     \u001b[0;32mdef\u001b[0m \u001b[0m_make_engine\u001b[0m\u001b[0;34m(\u001b[0m\u001b[0mself\u001b[0m\u001b[0;34m,\u001b[0m \u001b[0mengine\u001b[0m\u001b[0;34m=\u001b[0m\u001b[0;34m'c'\u001b[0m\u001b[0;34m)\u001b[0m\u001b[0;34m:\u001b[0m\u001b[0;34m\u001b[0m\u001b[0m\n\u001b[1;32m   1048\u001b[0m         \u001b[0;32mif\u001b[0m \u001b[0mengine\u001b[0m \u001b[0;34m==\u001b[0m \u001b[0;34m'c'\u001b[0m\u001b[0;34m:\u001b[0m\u001b[0;34m\u001b[0m\u001b[0m\n\u001b[0;32m-> 1049\u001b[0;31m             \u001b[0mself\u001b[0m\u001b[0;34m.\u001b[0m\u001b[0m_engine\u001b[0m \u001b[0;34m=\u001b[0m \u001b[0mCParserWrapper\u001b[0m\u001b[0;34m(\u001b[0m\u001b[0mself\u001b[0m\u001b[0;34m.\u001b[0m\u001b[0mf\u001b[0m\u001b[0;34m,\u001b[0m \u001b[0;34m**\u001b[0m\u001b[0mself\u001b[0m\u001b[0;34m.\u001b[0m\u001b[0moptions\u001b[0m\u001b[0;34m)\u001b[0m\u001b[0;34m\u001b[0m\u001b[0m\n\u001b[0m\u001b[1;32m   1050\u001b[0m         \u001b[0;32melse\u001b[0m\u001b[0;34m:\u001b[0m\u001b[0;34m\u001b[0m\u001b[0m\n\u001b[1;32m   1051\u001b[0m             \u001b[0;32mif\u001b[0m \u001b[0mengine\u001b[0m \u001b[0;34m==\u001b[0m \u001b[0;34m'python'\u001b[0m\u001b[0;34m:\u001b[0m\u001b[0;34m\u001b[0m\u001b[0m\n",
      "\u001b[0;32m~/anaconda3/envs/fastai/lib/python3.6/site-packages/pandas/io/parsers.py\u001b[0m in \u001b[0;36m__init__\u001b[0;34m(self, src, **kwds)\u001b[0m\n\u001b[1;32m   1693\u001b[0m         \u001b[0mkwds\u001b[0m\u001b[0;34m[\u001b[0m\u001b[0;34m'allow_leading_cols'\u001b[0m\u001b[0;34m]\u001b[0m \u001b[0;34m=\u001b[0m \u001b[0mself\u001b[0m\u001b[0;34m.\u001b[0m\u001b[0mindex_col\u001b[0m \u001b[0;32mis\u001b[0m \u001b[0;32mnot\u001b[0m \u001b[0;32mFalse\u001b[0m\u001b[0;34m\u001b[0m\u001b[0m\n\u001b[1;32m   1694\u001b[0m \u001b[0;34m\u001b[0m\u001b[0m\n\u001b[0;32m-> 1695\u001b[0;31m         \u001b[0mself\u001b[0m\u001b[0;34m.\u001b[0m\u001b[0m_reader\u001b[0m \u001b[0;34m=\u001b[0m \u001b[0mparsers\u001b[0m\u001b[0;34m.\u001b[0m\u001b[0mTextReader\u001b[0m\u001b[0;34m(\u001b[0m\u001b[0msrc\u001b[0m\u001b[0;34m,\u001b[0m \u001b[0;34m**\u001b[0m\u001b[0mkwds\u001b[0m\u001b[0;34m)\u001b[0m\u001b[0;34m\u001b[0m\u001b[0m\n\u001b[0m\u001b[1;32m   1696\u001b[0m \u001b[0;34m\u001b[0m\u001b[0m\n\u001b[1;32m   1697\u001b[0m         \u001b[0;31m# XXX\u001b[0m\u001b[0;34m\u001b[0m\u001b[0;34m\u001b[0m\u001b[0m\n",
      "\u001b[0;32mpandas/_libs/parsers.pyx\u001b[0m in \u001b[0;36mpandas._libs.parsers.TextReader.__cinit__\u001b[0;34m()\u001b[0m\n",
      "\u001b[0;32mpandas/_libs/parsers.pyx\u001b[0m in \u001b[0;36mpandas._libs.parsers.TextReader._setup_parser_source\u001b[0;34m()\u001b[0m\n",
      "\u001b[0;31mFileNotFoundError\u001b[0m: File b'../data/mnist/train.csv' does not exist"
     ]
    }
   ],
   "source": [
    "df = pd.read_csv(PATH/\"train.csv\")"
   ]
  },
  {
   "cell_type": "code",
   "execution_count": 6,
   "metadata": {
    "scrolled": true
   },
   "outputs": [],
   "source": [
    "imgs = df[:int(len(df)*params[\"t_pc\"])].drop(\"label\", axis =1)\n",
    "imgs = imgs/255.0\n",
    "val_idxs = get_cv_idxs(len(imgs))\n",
    "((x_val, x_train),) = split_by_idx(val_idxs, imgs)"
   ]
  },
  {
   "cell_type": "code",
   "execution_count": 7,
   "metadata": {},
   "outputs": [],
   "source": [
    "x_val = x_val.values.reshape(-1,1,params[\"sz\"],params[\"sz\"])\n",
    "x_train = x_train.values.reshape(-1,1,params[\"sz\"],params[\"sz\"])"
   ]
  },
  {
   "cell_type": "code",
   "execution_count": 8,
   "metadata": {},
   "outputs": [],
   "source": [
    "md = ImageClassifierData.from_arrays(PATH, (x_train, x_train), (x_val, x_val), bs=params[\"bs\"])"
   ]
  },
  {
   "cell_type": "code",
   "execution_count": 9,
   "metadata": {},
   "outputs": [],
   "source": [
    "class StdConv(nn.Module):\n",
    "    def __init__(self, nin, nout, stri=2, kern=4, pad=1, drop=0.1, relu=True):\n",
    "        super().__init__()\n",
    "        self.conv = nn.Conv2d(nin, nout, kernel_size=kern, stride=stri, padding=pad,bias=False)\n",
    "        self.bn = nn.BatchNorm2d(nout)\n",
    "        self.drop = nn.Dropout(drop)\n",
    "        self.relu = relu\n",
    "    def forward(self, x):\n",
    "        if self.relu:\n",
    "            return self.drop(self.bn(F.relu(self.conv(x))))\n",
    "        else:\n",
    "            return self.drop(self.bn(self.conv(x)))\n",
    "        \n",
    "class StdUpsample(nn.Module):\n",
    "    def __init__(self, nin, nout,kern=2,stri=2, pad=0):\n",
    "        super().__init__()\n",
    "        self.conv = nn.ConvTranspose2d(nin, nout, kern, stri, padding=pad)\n",
    "        self.bn = nn.BatchNorm2d(nout)\n",
    "        \n",
    "    def forward(self, x): return self.bn(F.relu(self.conv(x)))\n",
    "    \n",
    "class StdLinear(nn.Module):\n",
    "    def __init__(self, nin, nout, relu=True):\n",
    "        super().__init__()\n",
    "        self.lin = nn.Linear(nin, nout)\n",
    "        self.relu = relu\n",
    "    def forward(self, x):\n",
    "        if self.relu: return F.relu(self.lin(x))\n",
    "        return self.lin(x)"
   ]
  },
  {
   "cell_type": "code",
   "execution_count": 30,
   "metadata": {},
   "outputs": [],
   "source": [
    "#https://github.com/nakosung/VQ-VAE/blob/master/model.py\n",
    "#https://github.com/zalandoresearch/pytorch-vq-vae/blob/master/vq-vae.ipynb\n",
    "\n",
    "class VectorQuant(nn.Module):\n",
    "    def __init__(self, num_emb, emb_dim, comm_cost):\n",
    "        super().__init__()\n",
    "        self.emb_dim = emb_dim\n",
    "        self.num_emb = num_emb\n",
    "        self.emb = nn.Embedding(self.num_emb, self.emb_dim)\n",
    "        self.emb.weight.data.uniform_(-1/self.num_emb, 1/self.num_emb)\n",
    "        self.comm_cost = comm_cost\n",
    "        \n",
    "    def forward(self, x):\n",
    "        x = x.permute(0,2,3,1).contiguous()\n",
    "        x_sz = x.shape\n",
    "        \n",
    "        flat = x.view(-1, self.emb_dim)\n",
    "        \n",
    "        dist = (torch.sum(flat**2, dim=1, keepdim=True) + torch.sum(self.emb.weight**2, dim=1)\n",
    "            - 2 * torch.matmul(flat, self.emb.weight.t()))\n",
    "        \n",
    "        enc_idxs = torch.argmin(dist, dim=1).unsqueeze(1)\n",
    "        encs = torch.zeros(enc_idxs.shape[0], self.num_emb).cuda()\n",
    "        encs.scatter_(1,enc_idxs,1)\n",
    "        \n",
    "        quant = torch.matmul(encs, self.emb.weight).view(x_sz)\n",
    "        \n",
    "        e_lat_loss = torch.mean((quant.detach()-x)**2)\n",
    "        q_lat_loss = torch.mean((quant-x.detach())**2)\n",
    "        loss = q_lat_loss + self.comm_cost * e_lat_loss\n",
    "        \n",
    "        quant = x + (quant - x).detach()\n",
    "        avg_probs = torch.mean(encs, dim =0)\n",
    "        perplexity = torch.exp(-torch.sum(avg_probs * torch.log(avg_probs + 1e-10)))\n",
    "        \n",
    "        return quant.permute(0,3,1,2).contiguous(), loss, perplexity, encs\n",
    "\n",
    "class VQ_CVAE(nn.Module):\n",
    "    def __init__(self, n_latent, commit_coef=.25, vae=False):\n",
    "        super().__init__()\n",
    "        self.vae = vae\n",
    "        self.n_latent = n_latent\n",
    "        self.lat_chan = l_c = 64\n",
    "        self.z_dim = 28//2**2\n",
    "        self.h_dim = self.lat_chan * self.z_dim**2\n",
    "        \n",
    "        \n",
    "        #encoder\n",
    "        self.conv1 = StdConv(1 ,l_c//4)\n",
    "        self.conv2 = StdConv(l_c//4, l_c//2, 1,1,0)\n",
    "        self.conv3 = StdConv(l_c//2, self.lat_chan)\n",
    "        \n",
    "        self.emb = VectorQuant(256, self.lat_chan , commit_coef)\n",
    "        \n",
    "        #q\n",
    "        self.q_mean = StdLinear(self.h_dim, self.n_latent)\n",
    "        self.q_logvar = StdLinear(self.h_dim, self.n_latent)\n",
    "        self.q_project = StdLinear(n_latent, self.h_dim, False)\n",
    "        \n",
    "        #decoder\n",
    "        if self.vae:\n",
    "            self.upconv0 = StdUpsample(self.lat_chan*2,self.lat_chan,1,1)\n",
    "        self.upconv1 = StdUpsample(self.lat_chan,l_c//2)\n",
    "        self.upconv2 = StdUpsample(l_c//2, l_c//4, 1,1)\n",
    "        self.upconv3 = StdUpsample(l_c//4, 1)\n",
    "        \n",
    "    def encode(self, x):\n",
    "        x = self.conv1(x)\n",
    "        self.xc1 = x\n",
    "        x = self.conv2(x)\n",
    "        self.xc2 = x\n",
    "        x = self.conv3(x)\n",
    "        self.xc3 = x\n",
    "        return x.view(x.size(0),-1)\n",
    "    \n",
    "    def z(self, flattened):\n",
    "        self.mean, self.logvar = self.q_mean(flattened), self.q_logvar(flattened)\n",
    "        std = self.logvar.mul(.5).exp_()\n",
    "        eps = Variable(torch.randn(std.size())).cuda()\n",
    "        return eps.mul(std).add_(self.mean)\n",
    "    \n",
    "    def decode(self, z, train=True):\n",
    "        if train: torch.cat([z,self.xc3], dim=1)\n",
    "        z = self.upconv1(z)\n",
    "        if train: torch.cat([z,self.xc2], dim=1)\n",
    "        z = self.upconv2(z)\n",
    "        if train: torch.cat([z,self.xc1], dim=1)\n",
    "        z = self.upconv3(z)\n",
    "        return z        \n",
    "\n",
    "    def forward(self, x):\n",
    "        flattened = self.encode(x)\n",
    "        if self.vae:\n",
    "            z = self.z(flattened)\n",
    "            z = self.q_project(z).view(-1, self.lat_chan, self.z_dim, self.z_dim)\n",
    "            quant, loss, perp, _ = self.emb(z)\n",
    "            quant = torch.cat([quant, z], dim=1)\n",
    "            quant = self.upconv0(quant)\n",
    "            decoded = self.decode(quant)\n",
    "            return decoded, (loss, perp), (self.mean, self.logvar)\n",
    "        else:\n",
    "            quant, loss, perp, _ = self.emb(flattened.view(-1, self.lat_chan, self.z_dim, self.z_dim))\n",
    "            decoded = self.decode(quant)\n",
    "            return decoded, loss, perp"
   ]
  },
  {
   "cell_type": "code",
   "execution_count": 11,
   "metadata": {},
   "outputs": [],
   "source": [
    "trains = []\n",
    "ep_vals = collections.OrderedDict()"
   ]
  },
  {
   "cell_type": "code",
   "execution_count": 31,
   "metadata": {
    "scrolled": false
   },
   "outputs": [
    {
     "name": "stdout",
     "output_type": "stream",
     "text": [
      "iters      recon      perp       kl         vq_loss    \n",
      " 1 / 420   726.447    97.958     83.877     0.55      \n",
      " 1 / 840   718.557    155.233    71.659     0.477     \n",
      " 1 / 1260  701.012    192.178    71.114     0.447     \n",
      " 1 / 1680  701.281    210.753    72.285     0.437     \n",
      " 1 / 2100  683.555    208.748    75.155     0.441     \n",
      " 2 / 420   678.77     205.13     74.643     0.441     \n",
      " 2 / 840   679.169    203.619    74.951     0.438     \n",
      " 2 / 1260  664.804    200.375    84.081     0.458     \n",
      " 2 / 1680  676.868    196.939    86.079     0.472     \n",
      " 2 / 2100  661.211    199.038    86.095     0.49      \n",
      " 3 / 420   659.034    199.01     85.666     0.504     \n",
      " 3 / 840   656.621    197.24     88.365     0.513     \n",
      " 3 / 1260  651.655    195.512    91.133     0.537     \n",
      " 3 / 1680  635.92     194.272    95.1       0.551     \n",
      " 3 / 2100  633.563    191.974    96.112     0.57      \n",
      " 4 / 420   641.411    191.961    97.136     0.6       \n",
      " 4 / 840   630.233    190.827    95.342     0.609     \n",
      " 4 / 1260  639.41     190.244    98.441     0.638     \n",
      " 4 / 1680  623.988    190.557    97.081     0.654     \n",
      " 4 / 2100  620.406    191.309    97.6       0.668     \n",
      " 5 / 420   629.555    191.796    99.448     0.695     \n",
      " 5 / 840   626.088    189.15     100.099    0.701     \n",
      " 5 / 1260  631.095    188.808    100.118    0.742     \n",
      " 5 / 1680  621.746    190.659    101.533    0.754     \n",
      " 5 / 2100  624.181    189.539    100.925    0.758     \n",
      " 6 / 420   613.795    189.082    98.406     0.777     \n",
      " 6 / 840   612.854    188.265    99.796     0.803     \n",
      " 6 / 1260  616.34     188.556    100.678    0.823     \n",
      " 6 / 1680  608.799    190.753    98.756     0.825     \n",
      " 6 / 2100  632.491    189.127    98.154     0.841     \n",
      " 7 / 420   629.111    190.449    103.728    0.894     \n",
      " 7 / 840   622.327    189.573    101.115    0.891     \n",
      " 7 / 1260  633.962    188.221    103.172    0.902     \n",
      " 7 / 1680  619.688    185.167    101.472    0.934     \n",
      " 7 / 2100  610.763    186.814    98.468     0.925     \n"
     ]
    }
   ],
   "source": [
    "net = VQ_CVAE(16,.2,vae=True).cuda()\n",
    "net.train()\n",
    "train_recon = []\n",
    "train_perp  = []\n",
    "train_kl = []\n",
    "train_vq_list = []\n",
    "val_recon_error = []\n",
    "val_perp = []\n",
    "lr = start_lr = params[\"lr\"]\n",
    "epochs = params[\"epochs\"]\n",
    "iters = params[\"num_train_updates\"] = len(md.trn_dl)\n",
    "optimizer = optim.Adam(net.parameters(), lr=lr)\n",
    "names = [\"iters\",\"recon\",\"perp\",\"kl\",\"vq_loss\"]\n",
    "sched = \n",
    "\n",
    "layout = \"{!s:10} \" * len(names)\n",
    "for e in range(epochs):\n",
    "    if e == 0: print(layout.format(*names))\n",
    "    for i in range(iters):\n",
    "        net.train()\n",
    "        data, _ = next(iter(md.trn_dl))\n",
    "        optimizer.zero_grad()\n",
    "        if net.vae:\n",
    "            data_recon, (vq_loss, perplexity), (mean, logvar) = net(data)\n",
    "            kl = -0.5 * torch.sum(1 + logvar - mean.pow(2) - logvar.exp())\n",
    "            train_vq_list.append(vq_loss.item())\n",
    "            train_kl.append(kl.item())\n",
    "            vq_loss += kl\n",
    "        else:\n",
    "            data_recon, vq_loss, perplexity = net(data)\n",
    "            \n",
    "        recon_error = nn.MSELoss(reduction=\"sum\")(data_recon, data)\n",
    "        \n",
    "        loss = recon_error + vq_loss\n",
    "        loss.backward()\n",
    "\n",
    "        optimizer.step()\n",
    "        \n",
    "        val_dat, _ = next(iter(md.val_dl))\n",
    "        net.eval()\n",
    "        if net.vae: val_recon, (val_vq_loss, perp), _ = net(data)\n",
    "        else: val_recon, val_vq_loss, perp = net(val_dat)\n",
    "            \n",
    "        val_error = nn.MSELoss(reduction=\"sum\")(val_recon, val_dat)\n",
    "        \n",
    "        train_recon.append(recon_error.item())\n",
    "        train_perp.append(perplexity.item())\n",
    "        val_recon_error.append(val_error.item())\n",
    "        val_perp.append(perp.item())\n",
    "        if (i+1) % (params[\"num_train_updates\"]/5) == 0:\n",
    "            vals = [np.round(np.mean(train_recon[-100:]),3), np.round(np.mean(train_perp[-100:]),3), np.round(np.mean(train_kl[-100:]),3),np.round(np.mean(train_vq_list[-100:]),3)]\n",
    "            print_stats(f\"{e+1} / {i+1}\", vals)\n",
    "    ep_vals = append_stats(ep_vals, e, vals)\n",
    "#     trains.append((net.vae, np.mean(train_recon[-100:])))\n",
    "\n",
    "def append_stats(ep_vals, epoch, values, decimals=6):\n",
    "    ep_vals[epoch]=list(np.round(values, decimals))\n",
    "    return ep_vals\n",
    "\n",
    "def print_stats(epoch, values, decimals=3):\n",
    "    layout = \"{!s:^10}\" + \" {!s:10}\" * len(values)\n",
    "    values = [epoch] + list(np.round(values, decimals))\n",
    "    print(layout.format(*values))\n"
   ]
  },
  {
   "cell_type": "code",
   "execution_count": 33,
   "metadata": {},
   "outputs": [
    {
     "data": {
      "text/plain": [
       "[]"
      ]
     },
     "execution_count": 33,
     "metadata": {},
     "output_type": "execute_result"
    }
   ],
   "source": [
    "# x, _ = next(iter(md.val_dl))\n",
    "# x = V(x)\n",
    "# plt.imshow(x[3][0,:,:])\n",
    "# im,_,_ = net(x)\n",
    "# plt.imshow(im.data[2].cpu().numpy().reshape(28,28)*255.)\n",
    "# net.emb(net.encode(x).view(-1, 64, net.z_dim, net.z_dim))[1].shape\n",
    "# print(net.encode(x).shape); net.emb.emb.weight.shape\n",
    "ep_vals\n",
    "# %debug"
   ]
  },
  {
   "cell_type": "code",
   "execution_count": 15,
   "metadata": {},
   "outputs": [],
   "source": [
    "g = iter(md.val_dl)"
   ]
  },
  {
   "cell_type": "code",
   "execution_count": 16,
   "metadata": {
    "scrolled": true
   },
   "outputs": [],
   "source": [
    "def generate(bs=params[\"bs\"],mode=None):\n",
    "    if mode == 0:\n",
    "        vx = torch.FloatTensor([np.random.normal(0, 1, params[\"sz\"]**2) for _ in range(bs)]).cuda()\n",
    "        vx = V(vx).view(-1,1,params[\"sz\"],params[\"sz\"])\n",
    "        net.eval()\n",
    "#         vx = Variable(torch.randn(bs,params[\"sz\"]**2,dtype=torch.float, device=\"cuda\")).view(-1,1,params[\"sz\"],params[\"sz\"])\n",
    "        return net(vx)\n",
    "    else:\n",
    "#         vx = torch.FloatTensor([np.random.normal(0, 1, params[\"sz\"]**2) for _ in range(bs)]).cuda()\n",
    "#         vx = V(vx).view(-1,1,params[\"sz\"],params[\"sz\"])\n",
    "        vx = Variable(torch.randn(bs, 3136)).view(-1, 64, net.z_dim, net.z_dim).cuda()\n",
    "        net.eval()\n",
    "        fa, _, _, _ = net.emb(vx)\n",
    "        fake = net.decode(fa, False)\n",
    "        return ((fake + 1) / 2).clamp_(0,1)\n",
    "\n",
    "def display_recon(g=iter(md.val_dl),bs=params[\"bs\"]//2):\n",
    "    x, _ = next(g)\n",
    "    vx = V(x[:bs])\n",
    "    z_im, _, _ = net(vx)\n",
    "    z_im = z_im.data.cpu().numpy().reshape(-1,28,28)*255.\n",
    "    fig, axes = plt.subplots(2, bs, figsize=(15,3))\n",
    "    for ax, im in enumerate(x[:bs]):\n",
    "        axes[0,ax].imshow(im[0,:,:])\n",
    "        axes[1,ax].imshow(z_im[ax])\n",
    "    plt.tight_layout()\n",
    "    \n",
    "def display_gen(bs=params[\"bs\"], mode=0):\n",
    "    if mode == 0:\n",
    "        ims,_,_ = generate(bs, mode)\n",
    "    else:\n",
    "        ims = generate(bs, mode)\n",
    "    ims = ims.data.cpu().numpy()\n",
    "    ims = ims.reshape(-1,28,28)*255.\n",
    "    plt.figure(figsize=(15,3))\n",
    "    for i, im in enumerate(ims):\n",
    "        plt.subplot(2,bs/2,i+1)\n",
    "        plt.imshow(im)\n",
    "    plt.tight_layout()\n",
    "\n"
   ]
  },
  {
   "cell_type": "code",
   "execution_count": 32,
   "metadata": {},
   "outputs": [
    {
     "data": {
      "image/png": "[encoded data removed]",
      "text/plain": [
       "<Figure size 1080x216 with 16 Axes>"
      ]
     },
     "metadata": {
      "needs_background": "light"
     },
     "output_type": "display_data"
    },
    {
     "data": {
      "image/png": "[encoded data removed]",
      "text/plain": [
       "<Figure size 1080x216 with 16 Axes>"
      ]
     },
     "metadata": {
      "needs_background": "light"
     },
     "output_type": "display_data"
    }
   ],
   "source": [
    "# net.vae = True\n",
    "display_recon(g); display_gen()"
   ]
  },
  {
   "cell_type": "code",
   "execution_count": null,
   "metadata": {},
   "outputs": [],
   "source": [
    "# net.vae = False\n",
    "display_gen(mode=None)"
   ]
  },
  {
   "cell_type": "code",
   "execution_count": null,
   "metadata": {},
   "outputs": [],
   "source": []
  }
 ],
 "metadata": {
  "kernelspec": {
   "display_name": "Python 3",
   "language": "python",
   "name": "python3"
  },
  "language_info": {
   "codemirror_mode": {
    "name": "ipython",
    "version": 3
   },
   "file_extension": ".py",
   "mimetype": "text/x-python",
   "name": "python",
   "nbconvert_exporter": "python",
   "pygments_lexer": "ipython3",
   "version": "3.6.4"
  }
 },
 "nbformat": 4,
 "nbformat_minor": 2
}
