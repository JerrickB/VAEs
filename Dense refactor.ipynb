{
 "cells": [
  {
   "cell_type": "code",
   "execution_count": 1,
   "metadata": {},
   "outputs": [],
   "source": [
    "from fastai.vision import *\n",
    "import torch\n",
    "import torch.nn as nn\n",
    "import torch.nn.functional as F\n",
    "import pandas as pd\n",
    "import numpy as np"
   ]
  },
  {
   "cell_type": "code",
   "execution_count": 14,
   "metadata": {},
   "outputs": [
    {
     "name": "stdout",
     "output_type": "stream",
     "text": [
      "True\n"
     ]
    }
   ],
   "source": [
    "use_cuda = torch.cuda.is_available(); print(use_cuda)\n",
    "device = torch.device(\"cuda:0\" if use_cuda else \"cpu\")\n",
    "torch.backends.cudnn.benchmark = True\n",
    "CUDA_LAUNCH_BLOCKING=1\n",
    "%matplotlib inline\n",
    "%reload_ext autoreload\n",
    "%autoreload 2"
   ]
  },
  {
   "cell_type": "code",
   "execution_count": 12,
   "metadata": {},
   "outputs": [],
   "source": [
    "path = untar_data(URLs.MNIST_TINY, fname=\"MNIST_FA\", dest = \"./data/\")\n",
    "tfms = get_transforms(do_flip=False)\n",
    "data = (ImageList.from_folder(path)\n",
    "       .split_by_folder()\n",
    "       .label_from_folder()\n",
    "       .transform(tfms, size =32)\n",
    "       .databunch()\n",
    "       .normalize())"
   ]
  },
  {
   "cell_type": "code",
   "execution_count": 16,
   "metadata": {},
   "outputs": [],
   "source": [
    "class DenseBlock(nn.Module):\n",
    "    def __init__(self, nin, nout, kern=1, stri=1, pad=0):\n",
    "        super().__init__()\n",
    "        self.conv1 = StdConv(nin, nin, stri, kern, pad)\n",
    "        self.conv2 = StdConv(nin, nin, stri, kern, pad)\n",
    "        self.conv3 = StdConv(nin*2, nin, stri, kern, pad)\n",
    "        self.conv4 = StdConv(nin*3, nin, stri, kern, pad)\n",
    "        self.conv5 = StdConv(nin*4, nout, stri, kern, pad)\n",
    "    \n",
    "    def forward(self, x):\n",
    "        o1 = self.conv1(x)\n",
    "        o2 = self.conv2(o1)\n",
    "        o2c = torch.cat([o2,o1], dim=1)\n",
    "        o3 = self.conv3(o2c)\n",
    "        o3c = torch.cat([o2c,o3], dim=1)\n",
    "        o4 = self.conv4(o3c)\n",
    "        o4c = torch.cat([o3c, o4], dim=1)\n",
    "        o5 = self.conv5(o4c)\n",
    "        return o5"
   ]
  },
  {
   "cell_type": "code",
   "execution_count": null,
   "metadata": {},
   "outputs": [],
   "source": []
  }
 ],
 "metadata": {
  "kernelspec": {
   "display_name": "Python 3",
   "language": "python",
   "name": "python3"
  },
  "language_info": {
   "codemirror_mode": {
    "name": "ipython",
    "version": 3
   },
   "file_extension": ".py",
   "mimetype": "text/x-python",
   "name": "python",
   "nbconvert_exporter": "python",
   "pygments_lexer": "ipython3",
   "version": "3.6.4"
  }
 },
 "nbformat": 4,
 "nbformat_minor": 2
}
